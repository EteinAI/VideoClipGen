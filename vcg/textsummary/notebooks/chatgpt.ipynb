{
 "cells": [
  {
   "cell_type": "markdown",
   "id": "7889382e-d7d1-410d-b134-9a408f66c8ee",
   "metadata": {},
   "source": [
    "# Variables"
   ]
  },
  {
   "cell_type": "markdown",
   "id": "8c417a5f-9654-4374-bfb5-e0b14fdea263",
   "metadata": {},
   "source": [
    "# Config module search path"
   ]
  },
  {
   "cell_type": "code",
   "execution_count": null,
   "id": "c573b7e1-31a2-4ffc-84d3-c3f48e0a301f",
   "metadata": {},
   "outputs": [],
   "source": [
    "import sys\n",
    "from pathlib import Path\n",
    "\n",
    "# Get my_package directory path from Notebook\n",
    "parent_dir = str(Path().resolve().parents[1])\n",
    "\n",
    "# Add to sys.path\n",
    "if parent_dir not in sys.path:\n",
    "  sys.path.insert(0, parent_dir)\n",
    "\n",
    "from pprint import pprint\n",
    "pprint(sys.path)"
   ]
  },
  {
   "cell_type": "code",
   "execution_count": null,
   "id": "023cc2ea-9dad-4102-be64-9eedb2a86eea",
   "metadata": {},
   "outputs": [],
   "source": [
    "import re\n",
    "from pprint import pprint\n",
    "\n",
    "from textsummary.prompts import Prompter\n",
    "from textsummary.summary import proxy_summary"
   ]
  },
  {
   "cell_type": "markdown",
   "id": "edbebfe4-9ad5-4b06-878e-3594f30ccd2d",
   "metadata": {},
   "source": [
    "# Prompters"
   ]
  },
  {
   "cell_type": "markdown",
   "id": "8b5a7f82-afc7-4380-9aa3-8759174cb9d2",
   "metadata": {},
   "source": [
    "## Simple Prompter"
   ]
  },
  {
   "cell_type": "code",
   "execution_count": null,
   "id": "398713aa-1be9-4818-87b5-0414f828f2c2",
   "metadata": {},
   "outputs": [],
   "source": [
    "class SimplePrompter(Prompter):\n",
    "  def __init__(self, min=200, max=250, num_sentence=6, sentence_length=40):\n",
    "    super().__init__()\n",
    "    self._template = '''{text}\n",
    "TL;DR 请为以上字提供摘要，要求如下:\n",
    "1. 摘要以中文作答;\n",
    "2. 摘要不少于 {min} 字，不超过 {max} 字;\n",
    "3. 摘要包含 {num_sentence} 句话, 每句话 {sentence_length} 字左右\n",
    "4. 摘要中每句话以中文句号作为每句话的结束;\n",
    "5. 摘要中不要包含无关文字, 最后一句摘要不使用总结的口吻;\n",
    "'''.format(\n",
    "      text='{text}',\n",
    "      min=min,\n",
    "      max=max,\n",
    "      num_sentence=num_sentence,\n",
    "      sentence_length=sentence_length\n",
    "    )\n",
    "\n",
    "  def prompt(self, text: str) -> str:\n",
    "    return self._template.format(text=text)\n",
    "\n",
    "  def summaries(self, response: str) -> list[str]:\n",
    "    return self.instructions(response)\n",
    "\n",
    "  def instructions(self, response: str) -> list[str]:\n",
    "    return [s for s in re.split(r'。|；', response) if len(s) > 0]"
   ]
  },
  {
   "cell_type": "markdown",
   "id": "f26b9c01-848c-40c0-8ebb-895182b9e436",
   "metadata": {},
   "source": [
    "## Scene Prompter"
   ]
  },
  {
   "cell_type": "code",
   "execution_count": null,
   "id": "f03e443c-6f7c-4750-93e2-c6da3abc588b",
   "metadata": {},
   "outputs": [],
   "source": [
    "class ScenePrompter(Prompter):\n",
    "  def __init__(self, num_scene=6, num_keyword=1, sentence_length=40):\n",
    "    super().__init__()\n",
    "    self._template = '''{text}\n",
    "我想根据这段文字做一个营销短视频，作为营销大师，请帮我设计出{num_scene}个适合短视频的场景。\n",
    "每个场景提炼{num_keyword}个关键词，再写{sentence_length}个字左右的抖音风格文案。\n",
    "其中第一个场景是整体介绍，不要出现原文中没有的地名和产品名。\n",
    "请使用中文输出，输出时的格式为: \"场景:, 关键词:, 文案:\"。\n",
    "输出时请直接给出结果，不要包含无关语句。'''.format(\n",
    "      text='{text}',\n",
    "      num_scene=num_scene,\n",
    "      num_keyword=num_keyword,\n",
    "      sentence_length=sentence_length\n",
    "    )\n",
    "\n",
    "  def prompt(self, text: str) -> str:\n",
    "    return self._template.format(text=text)\n",
    "\n",
    "  def summaries(self, response: str) -> list[str]:\n",
    "    return [re.split(r':|：', s)[-1].strip() for s in self.instructions(response)]\n",
    "\n",
    "  def instructions(self, response: str) -> list[str]:\n",
    "    return ['场景'+s.strip() for s in response.split('场景') if len(s.strip()) > 0]"
   ]
  },
  {
   "cell_type": "code",
   "execution_count": null,
   "id": "3df6cda8-6d70-4310-8a0f-dd66376ffae2",
   "metadata": {},
   "outputs": [],
   "source": [
    "text = '''\n",
    "  软装设计，是设计一种生活方式，创造一种更为舒适的生活状态。\n",
    "  无需刻意新奇，无关美丑新旧，只为营造家的舒适感，对空间的归属感，以及身心愉悦的装饰氛围。\n",
    "  本期方案，利用干净的配色、明晰的线条、丰富的造型，以及充足的采光，让空间充满元气，生活充满幸福感。\n",
    "  客餐厅一体化设计，空间开阔感极大提升。简约的无主灯设计，灯带与筒灯实现均匀照明与局部重点照明，更具氛围感。\n",
    "  客餐厅两侧窗户大面积自然采光，则让空间时刻充满自然气息。\n",
    "  客餐厅配色以无彩色为主，浅灰色搭配棕灰色的大面积墙体，干净简洁。肤感膜、细格栅与波浪板的应用，则让空间材质与造型更为丰富。\n",
    "  黑色金属线条的加入，能灵活地设计墙咔布局与造型，金属质感，时尚精致，令装饰的灵动感与趣味性更上一层。\n",
    "  窗帘采用拼色款，与木纹墙咔的棕灰色相呼应，色彩和谐的同时，良好的遮光性与垂顺度，进一步提升空间舒适度与美感。\n",
    "  主卧延续整体的设计风格，大面积无彩色干净简洁的基调下，利用木纹墙咔的棕色系，加以点缀。\n",
    "  床体选用质感十足的绒面材质，柔软温和，棕色系的加持，更让舒适指数大为提升。\n",
    "  壁上观背景以及床头挂画，作为点睛之笔，赋予空间时尚艺术性。\n",
    "  整体给人的感觉，在现代简约之下，有一点点复古怀旧，一点点清新自然。\n",
    "  儿童房的打造，则是在原有风格的基础上，点缀了充满生机的绿色。床头挂画与懒人沙发，深绿色装饰清新自然。\n",
    "  衣柜则是淡淡的湖水绿，让空间的氛围更加轻松，整体是现代与森系结合的舒适空间。\n",
    "  为 YAKINO 雅琪诺点赞。\n",
    "'''\n",
    "\n",
    "summaries, instructions = proxy_summary(text, ScenePrompter())\n",
    "print('Summaries:')\n",
    "for i, str in enumerate(summaries):\n",
    "  print(f'[{i}] {str}')\n",
    "print('\\n')\n",
    "print('Instructions:')\n",
    "for i, str in enumerate(instructions):\n",
    "  print(f'[{i}] {str}')\n"
   ]
  }
 ],
 "metadata": {
  "kernelspec": {
   "display_name": "Python 3 (ipykernel)",
   "language": "python",
   "name": "python3"
  },
  "language_info": {
   "codemirror_mode": {
    "name": "ipython",
    "version": 3
   },
   "file_extension": ".py",
   "mimetype": "text/x-python",
   "name": "python",
   "nbconvert_exporter": "python",
   "pygments_lexer": "ipython3",
   "version": "3.11.0"
  }
 },
 "nbformat": 4,
 "nbformat_minor": 5
}
