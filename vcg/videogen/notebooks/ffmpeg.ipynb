{
 "cells": [
  {
   "cell_type": "code",
   "execution_count": null,
   "id": "38201e63-9311-492f-8991-fdcfce480104",
   "metadata": {},
   "outputs": [],
   "source": [
    "import sys\n",
    "from pathlib import Path\n",
    "\n",
    "# Get my_package directory path from Notebook\n",
    "parent_dir = str(Path().resolve().parents[1])\n",
    "\n",
    "# Add to sys.path\n",
    "if parent_dir not in sys.path:\n",
    "  sys.path.insert(0, parent_dir)\n",
    "\n",
    "from pprint import pprint\n",
    "pprint(sys.path)"
   ]
  },
  {
   "cell_type": "code",
   "execution_count": null,
   "id": "2d38f4ce-735e-4798-947e-c40988a64ea9",
   "metadata": {},
   "outputs": [],
   "source": [
    "import ffmpeg\n",
    "import os\n",
    "\n",
    "from pprint import pprint"
   ]
  },
  {
   "cell_type": "code",
   "execution_count": null,
   "id": "d0698c33-e529-4ca3-8961-b9d9597dabf4",
   "metadata": {},
   "outputs": [],
   "source": [
    "audio_file = '../../../tests/data/audio/0.wav'"
   ]
  },
  {
   "cell_type": "code",
   "execution_count": null,
   "id": "483bbca5-4e0a-4d5e-95a1-387713b7542b",
   "metadata": {},
   "outputs": [],
   "source": [
    "probe = ffmpeg.probe(audio_file)\n",
    "audio = next((stream for stream in probe['streams'] if stream['codec_type'] == 'audio'), None)\n",
    "print(f'Duration: {audio[\"duration\"]}')"
   ]
  }
 ],
 "metadata": {
  "kernelspec": {
   "display_name": "Python 3 (ipykernel)",
   "language": "python",
   "name": "python3"
  },
  "language_info": {
   "codemirror_mode": {
    "name": "ipython",
    "version": 3
   },
   "file_extension": ".py",
   "mimetype": "text/x-python",
   "name": "python",
   "nbconvert_exporter": "python",
   "pygments_lexer": "ipython3",
   "version": "3.11.0"
  }
 },
 "nbformat": 4,
 "nbformat_minor": 5
}
