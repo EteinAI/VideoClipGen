{
 "cells": [
  {
   "cell_type": "code",
   "execution_count": null,
   "id": "38201e63-9311-492f-8991-fdcfce480104",
   "metadata": {},
   "outputs": [],
   "source": [
    "import sys\n",
    "import subprocess\n",
    "\n",
    "from pathlib import Path\n",
    "\n",
    "# Get my_package directory path from Notebook\n",
    "parent_dir = str(Path().resolve().parents[1])\n",
    "\n",
    "# Add to sys.path\n",
    "if parent_dir not in sys.path:\n",
    "  sys.path.insert(0, parent_dir)\n",
    "\n",
    "from pprint import pprint\n",
    "pprint(sys.path)"
   ]
  },
  {
   "cell_type": "code",
   "execution_count": null,
   "id": "2d38f4ce-735e-4798-947e-c40988a64ea9",
   "metadata": {},
   "outputs": [],
   "source": [
    "import ffmpeg\n",
    "import os\n",
    "\n",
    "from pprint import pprint"
   ]
  },
  {
   "cell_type": "markdown",
   "id": "f0f91f9d-a53f-4149-9977-75d947c93fce",
   "metadata": {},
   "source": [
    "### Basic Parameters"
   ]
  },
  {
   "cell_type": "code",
   "execution_count": null,
   "id": "dbcfdf57-d94b-4758-bf85-b0c83b575b4c",
   "metadata": {},
   "outputs": [],
   "source": [
    "vconf = {\n",
    "  'crf': 18,\n",
    "  'tune': 'stillimage',\n",
    "  'vcodec': 'libx264',\n",
    "  'vprofile': 'high',\n",
    "}\n",
    "\n",
    "aconf = {\n",
    "  'acodec': 'aac',\n",
    "}\n",
    "\n",
    "oconf = {\n",
    "  'strict': 'strict',\n",
    "}"
   ]
  },
  {
   "cell_type": "markdown",
   "id": "22b9bf29-ba05-488d-b5f0-8477a47a6780",
   "metadata": {},
   "source": [
    "### ZoomPan"
   ]
  },
  {
   "cell_type": "code",
   "execution_count": null,
   "id": "ddd8a347-b404-401c-991e-220f3136a6cb",
   "metadata": {},
   "outputs": [],
   "source": [
    "from videogen.keyframe import keyframe\n",
    "\n",
    "file = '/Volumes/RamDisk/1.mp4'\n",
    "\n",
    "input = ffmpeg.input(file)\n",
    "audio = input.audio\n",
    "video = input.video\n",
    "\n",
    "#  https://trac.ffmpeg.org/ticket/4298\n",
    "v, name = keyframe(video)\n",
    "\n",
    "stream = ffmpeg.output(\n",
    "  v, audio, '/Volumes/RamDisk/out.mp4',\n",
    "  **vconf, **aconf, **oconf,\n",
    ").overwrite_output()\n",
    "\n",
    "args = stream.compile()\n",
    "print(name)\n",
    "print(\" \".join(args))\n",
    "\n",
    "process = subprocess.Popen(\n",
    "  args,\n",
    "  stderr=subprocess.PIPE,\n",
    "  stdout=subprocess.PIPE,\n",
    ")\n",
    "stdout, stderr = process.communicate()\n",
    "if process.returncode != 0:\n",
    "  pprint(args)\n",
    "  print(stderr.decode('utf-8'))"
   ]
  },
  {
   "cell_type": "code",
   "execution_count": null,
   "id": "6929bbfd-34b5-480e-993d-5524861bb71b",
   "metadata": {},
   "outputs": [],
   "source": [
    "import IPython.display\n",
    "from IPython.display import Video\n",
    "\n",
    "IPython.display.display(Video('/Volumes/RamDisk/out.mp4'))\n",
    "\n",
    "%%HTML\n",
    "<video width=\"720\" height=\"960\" controls>\n",
    "  <source src=\"/Volumes/RamDisk/out.mp4\" type=\"video/mp4\">\n",
    "</video>"
   ]
  },
  {
   "cell_type": "markdown",
   "id": "bc7d26eb-dc83-412a-9d80-2a24b847a6bc",
   "metadata": {},
   "source": [
    "### Duration"
   ]
  },
  {
   "cell_type": "code",
   "execution_count": null,
   "id": "483bbca5-4e0a-4d5e-95a1-387713b7542b",
   "metadata": {},
   "outputs": [],
   "source": [
    "audio_file = ''\n",
    "probe = ffmpeg.probe(audio_file)\n",
    "audio = next((stream for stream in probe['streams'] if stream['codec_type'] == 'audio'), None)\n",
    "durations = [float(stream['duration']) for stream in probe['streams'] if stream['duration'] is not None]\n",
    "print(f'Duration: {audio[\"duration\"]}')\n",
    "max(durations) + 0.5"
   ]
  },
  {
   "cell_type": "markdown",
   "id": "6adab665-5bc4-486c-b1ae-79eae0aa5fa6",
   "metadata": {},
   "source": [
    "### Probe"
   ]
  },
  {
   "cell_type": "code",
   "execution_count": null,
   "id": "7088cf59-cf2f-4f1f-995f-eab4d2356312",
   "metadata": {},
   "outputs": [],
   "source": [
    "file = '/Volumes/RamDisk/temp/test_generate0/0.mp4'\n",
    "ffmpeg.probe(file)"
   ]
  },
  {
   "cell_type": "markdown",
   "id": "9ffb8c57-cd1e-4f97-ba9a-851d36065b89",
   "metadata": {
    "tags": []
   },
   "source": [
    "### Loop"
   ]
  },
  {
   "cell_type": "code",
   "execution_count": null,
   "id": "379ec376-ce56-4969-ae15-104d0f9b47f1",
   "metadata": {},
   "outputs": [],
   "source": [
    "image = '1.jpg'\n",
    "wav = '1.wav'\n",
    "path = 'out.mp4'\n",
    "width = 720\n",
    "height = 960\n",
    "\n",
    "video = ffmpeg.input(\n",
    "  image,\n",
    "  r=25,\n",
    "  loop=1,\n",
    ").video.filter(\n",
    "  'scale',\n",
    "  width=f'{width}',\n",
    "  height='-2',\n",
    ").filter(\n",
    "  'pad',\n",
    "  width=f'{width}',\n",
    "  height=f'{height}',\n",
    "  x='(ow-iw)/2',\n",
    "  y='(oh-ih)/2',\n",
    "  color='black',\n",
    ").filter(\n",
    "  'setsar',\n",
    "  r='1',\n",
    "  max='1'\n",
    ")\n",
    "stream = ffmpeg.output(\n",
    "  video,\n",
    "  'out.mp4',\n",
    "  # r=25,  # set fps explicitly to support gif\n",
    "  shortest=None,\n",
    "  vcodec='libx264',\n",
    "  acodec='aac',\n",
    "  pix_fmt='yuvj420p',\n",
    "  strict='experimental',\n",
    ")\n",
    "\n",
    "audio = ffmpeg.input(wav).audio.filter(\n",
    "  # extend(padding) audio by 0.5s to make the concatenation more natural\n",
    "  'apad',\n",
    "  pad_dur=0.5,\n",
    ").filter(\n",
    "  'aformat',\n",
    "  sample_fmts='fltp',\n",
    "  sample_rates=44100,\n",
    ")\n",
    "\n",
    "stream = ffmpeg.concat(video, audio, v=1, a=1, n=2).output(\n",
    "  path,\n",
    "  # r=25,  # set fps explicitly to support gif\n",
    "  shortest=None,\n",
    "  vcodec='libx264',\n",
    "  acodec='aac',\n",
    "  pix_fmt='yuvj420p',\n",
    "  strict='experimental',\n",
    ")\n",
    "\n",
    "stream = ffmpeg.output(video, audio, path,\n",
    "  shortest=None,\n",
    "  vcodec='libx264',\n",
    "  acodec='aac',\n",
    "  pix_fmt='yuvj420p',\n",
    "  strict='experimental',\n",
    "  overwrite_output=True,\n",
    ")\n",
    "\n",
    "stream = ffmpeg.filter(\n",
    "  (audio, audio),\n",
    "  'amerge',\n",
    "  inputs=2,\n",
    "  channel_layout='stereo',\n",
    ").output(\n",
    "  video,\n",
    "  path,\n",
    "  shortest=None,\n",
    "  vcodec='libx264',\n",
    "  acodec='aac',\n",
    "  pix_fmt='yuvj420p',\n",
    "  strict='experimental',\n",
    ").overwrite_output()\n",
    "        \n",
    "args = stream.compile()\n",
    "pprint(args)\n",
    "print(' '.join(args))"
   ]
  },
  {
   "cell_type": "code",
   "execution_count": null,
   "id": "67fe50f7-e856-4d3f-8df8-0b1e1fefc4cb",
   "metadata": {},
   "outputs": [],
   "source": [
    "def test(**kwargs):\n",
    "  return kwargs\n",
    "test(**{'a':10, 'b':20}, **{'c':30})"
   ]
  }
 ],
 "metadata": {
  "kernelspec": {
   "display_name": "Python 3 (ipykernel)",
   "language": "python",
   "name": "python3"
  },
  "language_info": {
   "codemirror_mode": {
    "name": "ipython",
    "version": 3
   },
   "file_extension": ".py",
   "mimetype": "text/x-python",
   "name": "python",
   "nbconvert_exporter": "python",
   "pygments_lexer": "ipython3",
   "version": "3.11.0"
  }
 },
 "nbformat": 4,
 "nbformat_minor": 5
}
